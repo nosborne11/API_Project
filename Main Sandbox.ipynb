{
 "cells": [
  {
   "cell_type": "code",
   "execution_count": 3,
   "id": "9c617d14",
   "metadata": {},
   "outputs": [],
   "source": [
    "from fastapi import FastAPI\n",
    "import pandas as pd\n",
    "import pickle\n",
    "from pydantic import BaseModel\n",
    "from typing import Union \n",
    "from starter.ml import model as model_lib\n",
    "from starter. ml import data as data_lib\n",
    "\n",
    "#####Import process_data\n",
    "process_data=data_lib.process_data\n",
    "\n",
    "####Catergorical Variable\n",
    "cat_features = [\n",
    "    \"workclass\",\n",
    "    \"education\",\n",
    "    \"marital-status\",\n",
    "    \"occupation\",\n",
    "    \"relationship\",\n",
    "    \"race\",\n",
    "    \"sex\",\n",
    "    \"native-country\"\n",
    "]\n",
    "\n",
    "###Dict to convert names\n",
    "Convert_Dict={\n",
    "\"education_num\":\"education-num\",\n",
    "\"marital_status\":\"marital-status\",\n",
    "\"capital_gain\":\"capital-gain\",\n",
    "\"capital_loss\":\"capital-loss\",\n",
    "\"hours_per_week\":\"hours-per-week\",\n",
    "\"native_country\":\"native-country\"\n",
    "}\n",
    "\n",
    "\n",
    "###Load Encoder, Model, 1b\n",
    "with open(\"starter/model.pickle\", \"rb\") as input_file:\n",
    "    model=pickle.load(input_file)\n",
    "with open(\"starter/encoder.pickle\", \"rb\") as input_file:\n",
    "    encoder=pickle.load(input_file)\n",
    "with open(\"starter/1b.pickle\", \"rb\") as input_file:\n",
    "    Lb=pickle.load(input_file)\n",
    "\n",
    "\n",
    "# Declare the data object with its components and their type.\n",
    "# class Feature_List(BaseModel):\n",
    "#     age:int\n",
    "#     workclass:str\n",
    "#     fnlgt:int\n",
    "#     education:str\n",
    "#     education_num:int\n",
    "#     marital_status:str\n",
    "#     occupation:str\n",
    "#     relationship:str\n",
    "#     race:str\n",
    "#     sex:str\n",
    "#     capital_gain:int\n",
    "#     capital_loss:int\n",
    "#     hours_per_week:int\n",
    "#     native_country:str\n",
    "\n",
    "class Feature_List(BaseModel):\n",
    "    age:list\n",
    "    workclass:list\n",
    "    fnlgt:list\n",
    "    education:list\n",
    "    education_num:list\n",
    "    marital_status:list\n",
    "    occupation:list\n",
    "    relationship:list\n",
    "    race:list\n",
    "    sex:list\n",
    "    capital_gain:list\n",
    "    capital_loss:list\n",
    "    hours_per_week:list\n",
    "    native_country:list\n",
    "\n",
    "\n",
    "def Create_Panda_DF(Input_data,Convert_Dict):\n",
    "    data=pd.DataFrame(Input_data) \n",
    "    data=data.rename(columns=Convert_Dict)\n",
    "    return data  \n",
    "\n",
    "def Prediction_Pipe(data_download,encoder_download,lb_download,cat_features):\n",
    "    X, y_data, encoder, lb_test = process_data(\n",
    "    data_download, categorical_features=cat_features, label=None, training=False, encoder=encoder_download)\n",
    "    res=model_lib.inference(model, X)\n",
    "    return lb_download.inverse_transform(res[0])[0]\n",
    "\n",
    "######test input#######\n",
    "Input=Input={'age': [52],\n",
    " 'workclass': ['Self-emp-inc'],\n",
    " 'fnlgt': [287927],\n",
    " 'education': ['HS-grad'],\n",
    " 'education_num': [9],\n",
    " 'marital_status': ['Married-civ-spouse'],\n",
    " 'occupation': ['Exec-managerial'],\n",
    " 'relationship': ['Wife'],\n",
    " 'race': ['White'],\n",
    " 'sex': ['Female'],\n",
    " 'capital_gain': [15024],\n",
    " 'capital_loss': [0],\n",
    " 'hours_per_week': [40],\n",
    " 'native_country': ['United-States']}"
   ]
  },
  {
   "cell_type": "code",
   "execution_count": 129,
   "id": "7a38c675",
   "metadata": {},
   "outputs": [],
   "source": [
    "X=run_model(Input)"
   ]
  },
  {
   "cell_type": "code",
   "execution_count": 144,
   "id": "f554aea1",
   "metadata": {},
   "outputs": [],
   "source": [
    "###Testing API"
   ]
  },
  {
   "cell_type": "code",
   "execution_count": 4,
   "id": "3d5b3e12",
   "metadata": {},
   "outputs": [],
   "source": [
    "import requests\n",
    "import json as js\n"
   ]
  },
  {
   "cell_type": "code",
   "execution_count": null,
   "id": "6217ec97",
   "metadata": {},
   "outputs": [],
   "source": [
    "{'age': ,\n",
    " 'workclass': ,\n",
    " 'fnlgt': ,\n",
    " 'education': ,\n",
    " 'education-num': ,\n",
    " 'marital-status': ,\n",
    " 'occupation': ,\n",
    " 'relationship': ,\n",
    " 'race': ,\n",
    " 'sex': ,\n",
    " 'capital-gain': 0,\n",
    " 'capital-loss': 0,\n",
    " 'hours-per-week': 13,\n",
    " 'native-country': ,\n",
    " 'salary': '<=50K'}"
   ]
  },
  {
   "cell_type": "code",
   "execution_count": 5,
   "id": "e9eccb46",
   "metadata": {},
   "outputs": [
    {
     "name": "stdout",
     "output_type": "stream",
     "text": [
      "[\">50K\",\"<=50K\"]\n"
     ]
    }
   ],
   "source": [
    "url = 'http://127.0.0.1:8000/items/'\n",
    "Input={'age': [52,50],\n",
    " 'workclass': ['Self-emp-inc','Self-emp-not-inc'],\n",
    " 'fnlgt': [287927,83311],\n",
    " 'education': ['HS-grad','Bachelors'],\n",
    " 'education_num': [9,13],\n",
    " 'marital_status': ['Married-civ-spouse','Married-civ-spouse'],\n",
    " 'occupation': ['Exec-managerial','Exec-managerial'],\n",
    " 'relationship': ['Wife','Husband'],\n",
    " 'race': ['White','White'],\n",
    " 'sex': ['Female','Male'],\n",
    " 'capital_gain': [15024,0],\n",
    " 'capital_loss': [0,0],\n",
    " 'hours_per_week': [40,13],\n",
    " 'native_country': ['United-States','United-States']}\n",
    "\n",
    "x = requests.post(url,data=js.dumps(Input))\n",
    "\n",
    "print(x.text)"
   ]
  },
  {
   "cell_type": "code",
   "execution_count": 8,
   "id": "2456e93f",
   "metadata": {},
   "outputs": [
    {
     "data": {
      "text/plain": [
       "'[\">50K\"]'"
      ]
     },
     "execution_count": 8,
     "metadata": {},
     "output_type": "execute_result"
    }
   ],
   "source": [
    "x.text"
   ]
  },
  {
   "cell_type": "code",
   "execution_count": 21,
   "id": "c1c87395",
   "metadata": {},
   "outputs": [
    {
     "name": "stdout",
     "output_type": "stream",
     "text": [
      "<bound method Response.json of <Response [200]>>\n"
     ]
    }
   ],
   "source": [
    "x = requests.get(url)\n",
    "\n",
    "print(x.json)"
   ]
  },
  {
   "cell_type": "code",
   "execution_count": 22,
   "id": "788fe2a4",
   "metadata": {},
   "outputs": [
    {
     "data": {
      "text/plain": [
       "['>50K']"
      ]
     },
     "execution_count": 22,
     "metadata": {},
     "output_type": "execute_result"
    }
   ],
   "source": [
    "x.json()"
   ]
  },
  {
   "cell_type": "code",
   "execution_count": 20,
   "id": "5845411a",
   "metadata": {},
   "outputs": [
    {
     "data": {
      "text/plain": [
       "False"
      ]
     },
     "execution_count": 20,
     "metadata": {},
     "output_type": "execute_result"
    }
   ],
   "source": [
    "x=='<Response [200]>'"
   ]
  },
  {
   "cell_type": "code",
   "execution_count": 13,
   "id": "3fec7cab",
   "metadata": {},
   "outputs": [
    {
     "name": "stdout",
     "output_type": "stream",
     "text": [
      ">test_api/test_api.py\n"
     ]
    }
   ],
   "source": [
    "filepath = input('>')"
   ]
  },
  {
   "cell_type": "code",
   "execution_count": null,
   "id": "69286339",
   "metadata": {},
   "outputs": [],
   "source": []
  }
 ],
 "metadata": {
  "kernelspec": {
   "display_name": "Python 3 (ipykernel)",
   "language": "python",
   "name": "python3"
  },
  "language_info": {
   "codemirror_mode": {
    "name": "ipython",
    "version": 3
   },
   "file_extension": ".py",
   "mimetype": "text/x-python",
   "name": "python",
   "nbconvert_exporter": "python",
   "pygments_lexer": "ipython3",
   "version": "3.8.5"
  }
 },
 "nbformat": 4,
 "nbformat_minor": 5
}
