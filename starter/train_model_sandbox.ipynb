{
 "cells": [
  {
   "cell_type": "code",
   "execution_count": 59,
   "id": "9a89d845",
   "metadata": {},
   "outputs": [],
   "source": [
    "# Script to train machine learning model.\n",
    "\n",
    "from sklearn.model_selection import train_test_split\n",
    "import pickle\n",
    "# Add the necessary imports for the starter code.\n",
    "import pandas as pd \n",
    "import numpy as np\n",
    "from ml.data import process_data\n",
    "from ml.model import  train_model,compute_model_metrics,inference"
   ]
  },
  {
   "cell_type": "code",
   "execution_count": 61,
   "id": "b918b857",
   "metadata": {},
   "outputs": [],
   "source": [
    "\n",
    "# Add code to load in the data.\n",
    "data=pd.read_csv('../data/census_modified.csv')"
   ]
  },
  {
   "cell_type": "code",
   "execution_count": 62,
   "id": "83710173",
   "metadata": {},
   "outputs": [],
   "source": [
    "\n",
    "# Optional enhancement, use K-fold cross validation instead of a train-test split.\n",
    "train, test = train_test_split(data, test_size=0.20)\n",
    "\n",
    "cat_features = [\n",
    "    \"workclass\",\n",
    "    \"education\",\n",
    "    \"marital-status\",\n",
    "    \"occupation\",\n",
    "    \"relationship\",\n",
    "    \"race\",\n",
    "    \"sex\",\n",
    "    \"native-country\",\n",
    "]\n",
    "X_train, y_train, encoder_train, lb_train = process_data(\n",
    "    train, categorical_features=cat_features, label=\"salary\", training=True\n",
    ")\n",
    "\n",
    "# Proces the test data with the process_data function.\n",
    "\n",
    "X_test, y_test, encoder, lb_test = process_data(\n",
    "    test, categorical_features=cat_features, label=\"salary\", training=False, encoder=encoder_train\n",
    ")\n"
   ]
  },
  {
   "cell_type": "code",
   "execution_count": 82,
   "id": "b121696a",
   "metadata": {},
   "outputs": [
    {
     "name": "stdout",
     "output_type": "stream",
     "text": [
      "age int64\n",
      "workclass object\n",
      "fnlgt int64\n",
      "education object\n",
      "education-num int64\n",
      "marital-status object\n",
      "occupation object\n",
      "relationship object\n",
      "race object\n",
      "sex object\n",
      "capital-gain int64\n",
      "capital-loss int64\n",
      "hours-per-week int64\n",
      "native-country object\n",
      "salary object\n"
     ]
    }
   ],
   "source": [
    "for x in data.columns:\n",
    "    print(x,data[x].dtype)"
   ]
  },
  {
   "cell_type": "code",
   "execution_count": 101,
   "id": "bc153deb",
   "metadata": {},
   "outputs": [
    {
     "ename": "AttributeError",
     "evalue": "'numpy.ndarray' object has no attribute 'iloc'",
     "output_type": "error",
     "traceback": [
      "\u001b[0;31m---------------------------------------------------------------------------\u001b[0m",
      "\u001b[0;31mAttributeError\u001b[0m                            Traceback (most recent call last)",
      "\u001b[0;32m/var/folders/y4/l069p8g52dj8drsw37_p66sxrkc0s6/T/ipykernel_99724/521783552.py\u001b[0m in \u001b[0;36m<module>\u001b[0;34m\u001b[0m\n\u001b[0;32m----> 1\u001b[0;31m \u001b[0mdict\u001b[0m\u001b[0;34m(\u001b[0m\u001b[0mX_test\u001b[0m\u001b[0;34m.\u001b[0m\u001b[0miloc\u001b[0m\u001b[0;34m[\u001b[0m\u001b[0;36m2\u001b[0m\u001b[0;34m]\u001b[0m\u001b[0;34m)\u001b[0m\u001b[0;34m\u001b[0m\u001b[0;34m\u001b[0m\u001b[0m\n\u001b[0m",
      "\u001b[0;31mAttributeError\u001b[0m: 'numpy.ndarray' object has no attribute 'iloc'"
     ]
    }
   ],
   "source": [
    "dict(data.iloc[2])"
   ]
  },
  {
   "cell_type": "code",
   "execution_count": 102,
   "id": "a1a0b859",
   "metadata": {},
   "outputs": [
    {
     "data": {
      "text/plain": [
       "0        <=50K\n",
       "1        <=50K\n",
       "2        <=50K\n",
       "3        <=50K\n",
       "4        <=50K\n",
       "         ...  \n",
       "32556    <=50K\n",
       "32557     >50K\n",
       "32558    <=50K\n",
       "32559    <=50K\n",
       "32560     >50K\n",
       "Name: salary, Length: 32561, dtype: object"
      ]
     },
     "execution_count": 102,
     "metadata": {},
     "output_type": "execute_result"
    }
   ],
   "source": [
    "data['salary']"
   ]
  },
  {
   "cell_type": "code",
   "execution_count": 64,
   "id": "157c885e",
   "metadata": {},
   "outputs": [],
   "source": [
    "# Train and save a model.\n",
    "model=train_model(X_train,y_train)"
   ]
  },
  {
   "cell_type": "code",
   "execution_count": 65,
   "id": "d44b7bae",
   "metadata": {},
   "outputs": [],
   "source": [
    "###Save Model\n",
    "with open(r\"model.pickle\", \"wb\") as output_file:\n",
    "    pickle.dump(model,file=output_file)\n",
    "    \n",
    "###Save Model\n",
    "with open(r\"encoder.pickle\", \"wb\") as output_file:\n",
    "    pickle.dump(encoder_train,file=output_file)\n",
    "    \n",
    "###Save Model\n",
    "with open(r\"1b.pickle\", \"wb\") as output_file:\n",
    "    pickle.dump(lb_train,file=output_file)"
   ]
  },
  {
   "cell_type": "code",
   "execution_count": 92,
   "id": "50fc83fd",
   "metadata": {},
   "outputs": [
    {
     "name": "stdout",
     "output_type": "stream",
     "text": [
      "precision: 0.6297213622291021\n",
      "recall: 0.6289424860853432\n",
      "fbeta: 0.6293316831683169\n"
     ]
    }
   ],
   "source": [
    "#####Prediction Results\n",
    "preds=inference(model, X_test)\n",
    "res=compute_model_metrics(lb_train.transform(y_test).ravel(),preds)\n",
    "results={'precision':res[0],\"recall\":res[1],\"fbeta\":res[2]}\n",
    "print(f'''precision: {results['precision']}''')\n",
    "print(f'''recall: {results['recall']}''')\n",
    "print(f'''fbeta: {results['fbeta']}''')\n",
    "\n",
    "###Save Prediction Results\n",
    "with open(r\"result.pickle\", \"wb\") as output_file:\n",
    "    pickle.dump(results,file=output_file)"
   ]
  },
  {
   "cell_type": "code",
   "execution_count": 100,
   "id": "3c3f38bf",
   "metadata": {},
   "outputs": [
    {
     "data": {
      "text/plain": [
       "array(['<=50K', '<=50K', '>50K', ..., '>50K', '>50K', '<=50K'],\n",
       "      dtype='<U5')"
      ]
     },
     "execution_count": 100,
     "metadata": {},
     "output_type": "execute_result"
    }
   ],
   "source": [
    "lb_train.inverse_transform(preds)"
   ]
  },
  {
   "cell_type": "code",
   "execution_count": 103,
   "id": "3206e29f",
   "metadata": {},
   "outputs": [],
   "source": [
    "XX, y_test, encoder, lb_test = process_data(\n",
    "    data, categorical_features=cat_features, label=\"salary\", training=False, encoder=encoder_train\n",
    ")\n"
   ]
  },
  {
   "cell_type": "code",
   "execution_count": 105,
   "id": "ed57a0fa",
   "metadata": {},
   "outputs": [],
   "source": [
    "preds=inference(model, XX)"
   ]
  },
  {
   "cell_type": "code",
   "execution_count": 107,
   "id": "24ca491a",
   "metadata": {},
   "outputs": [
    {
     "data": {
      "text/plain": [
       "1"
      ]
     },
     "execution_count": 107,
     "metadata": {},
     "output_type": "execute_result"
    }
   ],
   "source": [
    "preds[-1]"
   ]
  },
  {
   "cell_type": "code",
   "execution_count": 108,
   "id": "3b64bc87",
   "metadata": {},
   "outputs": [
    {
     "data": {
      "text/plain": [
       "array(['>50K'], dtype='<U5')"
      ]
     },
     "execution_count": 108,
     "metadata": {},
     "output_type": "execute_result"
    }
   ],
   "source": [
    "lb_train.inverse_transform(preds[-1])"
   ]
  },
  {
   "cell_type": "code",
   "execution_count": 112,
   "id": "cfb885b8",
   "metadata": {},
   "outputs": [
    {
     "data": {
      "text/plain": [
       "{'age': 50,\n",
       " 'workclass': 'Self-emp-not-inc',\n",
       " 'fnlgt': 83311,\n",
       " 'education': 'Bachelors',\n",
       " 'education-num': 13,\n",
       " 'marital-status': 'Married-civ-spouse',\n",
       " 'occupation': 'Exec-managerial',\n",
       " 'relationship': 'Husband',\n",
       " 'race': 'White',\n",
       " 'sex': 'Male',\n",
       " 'capital-gain': 0,\n",
       " 'capital-loss': 0,\n",
       " 'hours-per-week': 13,\n",
       " 'native-country': 'United-States',\n",
       " 'salary': '<=50K'}"
      ]
     },
     "execution_count": 112,
     "metadata": {},
     "output_type": "execute_result"
    }
   ],
   "source": [
    "dict(data.iloc[1])"
   ]
  },
  {
   "cell_type": "code",
   "execution_count": null,
   "id": "2984d840",
   "metadata": {},
   "outputs": [],
   "source": []
  }
 ],
 "metadata": {
  "kernelspec": {
   "display_name": "Python 3 (ipykernel)",
   "language": "python",
   "name": "python3"
  },
  "language_info": {
   "codemirror_mode": {
    "name": "ipython",
    "version": 3
   },
   "file_extension": ".py",
   "mimetype": "text/x-python",
   "name": "python",
   "nbconvert_exporter": "python",
   "pygments_lexer": "ipython3",
   "version": "3.8.5"
  }
 },
 "nbformat": 4,
 "nbformat_minor": 5
}
