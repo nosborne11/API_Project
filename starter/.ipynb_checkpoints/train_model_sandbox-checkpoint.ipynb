{
 "cells": [
  {
   "cell_type": "code",
   "execution_count": 1,
   "id": "9a89d845",
   "metadata": {},
   "outputs": [],
   "source": [
    "# Script to train machine learning model.\n",
    "\n",
    "from sklearn.model_selection import train_test_split\n",
    "import pickle\n",
    "# Add the necessary imports for the starter code.\n",
    "import pandas as pd \n",
    "import numpy as np\n",
    "from ml.data import process_data\n",
    "from ml.model import  train_model,compute_model_metrics,inference"
   ]
  },
  {
   "cell_type": "code",
   "execution_count": 2,
   "id": "b918b857",
   "metadata": {},
   "outputs": [],
   "source": [
    "\n",
    "# Add code to load in the data.\n",
    "data=pd.read_csv('../data/census_modified.csv')"
   ]
  },
  {
   "cell_type": "code",
   "execution_count": 3,
   "id": "83710173",
   "metadata": {},
   "outputs": [],
   "source": [
    "\n",
    "# Optional enhancement, use K-fold cross validation instead of a train-test split.\n",
    "train, test = train_test_split(data, test_size=0.20)\n",
    "\n",
    "cat_features = [\n",
    "    \"workclass\",\n",
    "    \"education\",\n",
    "    \"marital-status\",\n",
    "    \"occupation\",\n",
    "    \"relationship\",\n",
    "    \"race\",\n",
    "    \"sex\",\n",
    "    \"native-country\",\n",
    "]\n",
    "X_train, y_train, encoder, lb_train = process_data(\n",
    "    train, categorical_features=cat_features, label=\"salary\", training=True\n",
    ")\n",
    "\n",
    "# Proces the test data with the process_data function.\n",
    "\n",
    "X_test, y_test, encoder, lb_test = process_data(\n",
    "    test, categorical_features=cat_features, label=\"salary\", training=False, encoder=encoder\n",
    ")\n"
   ]
  },
  {
   "cell_type": "code",
   "execution_count": 6,
   "id": "157c885e",
   "metadata": {},
   "outputs": [],
   "source": [
    "# Train and save a model.\n",
    "model=train_model(X_train,y_train)"
   ]
  },
  {
   "cell_type": "code",
   "execution_count": 7,
   "id": "d44b7bae",
   "metadata": {},
   "outputs": [],
   "source": [
    "###Save Model\n",
    "with open(r\"model.pickle\", \"wb\") as output_file:\n",
    "    pickle.dump(model,file=output_file)"
   ]
  },
  {
   "cell_type": "code",
   "execution_count": 41,
   "id": "50fc83fd",
   "metadata": {},
   "outputs": [
    {
     "name": "stdout",
     "output_type": "stream",
     "text": [
      "precision: 0.6201743462017435\n",
      "recall: 0.623279098873592\n",
      "fbeta: 0.6217228464419476\n"
     ]
    }
   ],
   "source": [
    "#####Prediction Results\n",
    "preds=inference(model, X_test)\n",
    "res=compute_model_metrics(lb_train.transform(y_test).ravel(),preds)\n",
    "results={'precision':res[0],\"recall\":res[1],\"fbeta\":res[2]}\n",
    "print(f'''precision: {results['precision']}''')\n",
    "print(f'''recall: {results['recall']}''')\n",
    "print(f'''fbeta: {results['fbeta']}''')\n",
    "\n",
    "###Save Prediction Results\n",
    "with open(r\"result.pickle\", \"wb\") as output_file:\n",
    "    pickle.dump(results,file=output_file)"
   ]
  },
  {
   "cell_type": "code",
   "execution_count": 47,
   "id": "3c3f38bf",
   "metadata": {},
   "outputs": [],
   "source": []
  },
  {
   "cell_type": "code",
   "execution_count": null,
   "id": "995dba24",
   "metadata": {},
   "outputs": [],
   "source": []
  },
  {
   "cell_type": "code",
   "execution_count": null,
   "id": "ec650207",
   "metadata": {},
   "outputs": [],
   "source": []
  },
  {
   "cell_type": "code",
   "execution_count": null,
   "id": "3206e29f",
   "metadata": {},
   "outputs": [],
   "source": []
  },
  {
   "cell_type": "code",
   "execution_count": null,
   "id": "ed57a0fa",
   "metadata": {},
   "outputs": [],
   "source": []
  }
 ],
 "metadata": {
  "kernelspec": {
   "display_name": "Python 3 (ipykernel)",
   "language": "python",
   "name": "python3"
  },
  "language_info": {
   "codemirror_mode": {
    "name": "ipython",
    "version": 3
   },
   "file_extension": ".py",
   "mimetype": "text/x-python",
   "name": "python",
   "nbconvert_exporter": "python",
   "pygments_lexer": "ipython3",
   "version": "3.8.5"
  }
 },
 "nbformat": 4,
 "nbformat_minor": 5
}
